{
 "cells": [
  {
   "cell_type": "markdown",
   "metadata": {},
   "source": [
    "## **Sales Predicition Project**"
   ]
  },
  {
   "cell_type": "markdown",
   "metadata": {},
   "source": [
    "**Data Input (Stock Level,Number of Planning Months and Planned Sales Quantities for each Month)**\n"
   ]
  },
  {
   "cell_type": "code",
   "execution_count": 31,
   "metadata": {},
   "outputs": [],
   "source": [
    "# Obtaining Data Input for Users\n",
    "initial_stock_level = int(input('Enter the initial stock level: '))\n",
    "planning_months = int(input('Enter number of planning months: '))\n",
    "\n",
    "# Obtaining planned sales quantities for each month\n",
    "list_sales_quantity = []\n",
    "for i in range(planning_months):\n",
    "    planned_sales_quantity = int(input(f'Enter the planned sales quantity for month {i+1}: '))\n",
    "    list_sales_quantity.append(planned_sales_quantity)\n"
   ]
  },
  {
   "cell_type": "markdown",
   "metadata": {},
   "source": [
    "**System Output (Production Quantity)**"
   ]
  },
  {
   "cell_type": "code",
   "execution_count": 32,
   "metadata": {},
   "outputs": [
    {
     "name": "stdout",
     "output_type": "stream",
     "text": [
      "Production quantity month 1 -> 0\n",
      "Production quantity month 2 -> -1200\n",
      "Production quantity month 3 -> -900\n",
      "Production quantity month 4 -> -500\n",
      "Production quantity month 5 -> 0\n",
      "Production quantity month 6 -> 600\n",
      "Production quantity month 7 -> 700\n",
      "Production quantity month 8 -> 800\n",
      "Production quantity month 9 -> 900\n",
      "Production quantity month 10 -> 1000\n",
      "Production quantity month 11 -> 1100\n",
      "Production quantity month 12 -> 1200\n"
     ]
    }
   ],
   "source": [
    "# Calculating resulting stock levels and production quantities for each month\n",
    "resulting_stock = []\n",
    "for i in range(planning_months):\n",
    "    if i == 0:\n",
    "        resulting_stock.append(initial_stock_level - list_sales_quantity[i])\n",
    "    else:\n",
    "        production_quantity = min(resulting_stock[i-1], list_sales_quantity[i])\n",
    "        resulting_stock.append(resulting_stock[i-1] - production_quantity)\n",
    "\n",
    "# Displaying production quantities for each month\n",
    "for i in range(planning_months):\n",
    "    if i == 0:\n",
    "        production_quantity = list_sales_quantity[i] - (initial_stock_level - resulting_stock[i])\n",
    "    else:\n",
    "        production_quantity = list_sales_quantity[i] - resulting_stock[i-1]\n",
    "    print(f'Production quantity month {i+1} -> {production_quantity}')\n"
   ]
  }
 ],
 "metadata": {
  "kernelspec": {
   "display_name": "Python 3",
   "language": "python",
   "name": "python3"
  },
  "language_info": {
   "codemirror_mode": {
    "name": "ipython",
    "version": 3
   },
   "file_extension": ".py",
   "mimetype": "text/x-python",
   "name": "python",
   "nbconvert_exporter": "python",
   "pygments_lexer": "ipython3",
   "version": "3.10.9"
  }
 },
 "nbformat": 4,
 "nbformat_minor": 2
}
